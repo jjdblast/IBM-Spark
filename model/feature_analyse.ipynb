{
 "cells": [
  {
   "cell_type": "code",
   "execution_count": 1,
   "metadata": {
    "collapsed": true
   },
   "outputs": [],
   "source": [
    "import pandas as pd"
   ]
  },
  {
   "cell_type": "code",
   "execution_count": 76,
   "metadata": {
    "collapsed": false
   },
   "outputs": [
    {
     "name": "stderr",
     "output_type": "stream",
     "text": [
      "C:\\Program Files\\Python35\\lib\\site-packages\\IPython\\core\\interactiveshell.py:2723: DtypeWarning: Columns (20) have mixed types. Specify dtype option on import or set low_memory=False.\n",
      "  interactivity=interactivity, compiler=compiler, result=result)\n"
     ]
    }
   ],
   "source": [
    "## read accid data\n",
    "df_accid_chusai = pd.read_csv('./data/chusai/accid1.csv')\n",
    "df_accid_chusai.drop(df_accid_chusai.columns[range(21,28)], axis=1, inplace=True)\n",
    "df_accid_fusai = pd.read_csv('./data/accid1.csv')\n",
    "df_accid_fusai.drop(df_accid_fusai.columns[range(21,50)], axis=1, inplace=True)\n",
    "df_accid = pd.concat([df_accid_chusai, df_accid_fusai])\n",
    "\n",
    "## read wf1 data\n",
    "df_wf_chusai = pd.read_csv('./data/chusai/wf1.csv')\n",
    "df_wf_chusai.drop(df_wf_chusai.columns[range(6,13)], axis=1, inplace=True)\n",
    "## fix data columms error\n",
    "df_wf_chusai.rename(columns = {'\\ufeffjsz8':'jszh'}, inplace=True)\n",
    "\n",
    "df_wf_fusai = pd.read_csv('./data/wf1.csv')\n",
    "df_wf_fusai.drop(df_wf_fusai.columns[range(6,13)], axis=1, inplace=True)\n",
    "## fix data columms error\n",
    "df_wf_fusai.rename(columns = {'\\ufeffjszh':'jszh'}, inplace=True)\n",
    "\n",
    "df_wf = pd.concat([df_wf_chusai, df_wf_fusai])\n"
   ]
  },
  {
   "cell_type": "code",
   "execution_count": 77,
   "metadata": {
    "collapsed": false
   },
   "outputs": [
    {
     "data": {
      "text/plain": [
       "(131070, 6)"
      ]
     },
     "execution_count": 77,
     "metadata": {},
     "output_type": "execute_result"
    }
   ],
   "source": [
    "df_wf.shape"
   ]
  },
  {
   "cell_type": "code",
   "execution_count": 78,
   "metadata": {
    "collapsed": false
   },
   "outputs": [
    {
     "data": {
      "text/plain": [
       "(74692, 22)"
      ]
     },
     "execution_count": 78,
     "metadata": {},
     "output_type": "execute_result"
    }
   ],
   "source": [
    "df_accid.shape"
   ]
  },
  {
   "cell_type": "code",
   "execution_count": null,
   "metadata": {
    "collapsed": true
   },
   "outputs": [],
   "source": []
  }
 ],
 "metadata": {
  "kernelspec": {
   "display_name": "Python 3",
   "language": "python",
   "name": "python3"
  },
  "language_info": {
   "codemirror_mode": {
    "name": "ipython",
    "version": 3
   },
   "file_extension": ".py",
   "mimetype": "text/x-python",
   "name": "python",
   "nbconvert_exporter": "python",
   "pygments_lexer": "ipython3",
   "version": "3.5.1"
  }
 },
 "nbformat": 4,
 "nbformat_minor": 0
}
